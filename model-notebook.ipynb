{
 "cells": [
  {
   "cell_type": "code",
   "execution_count": 12,
   "id": "initial_id",
   "metadata": {
    "collapsed": true,
    "ExecuteTime": {
     "end_time": "2023-10-06T22:50:25.659480Z",
     "start_time": "2023-10-06T22:50:25.654479Z"
    }
   },
   "outputs": [
    {
     "name": "stdout",
     "output_type": "stream",
     "text": [
      "TensorFlow version: 2.14.0\n"
     ]
    }
   ],
   "source": [
    "import json\n",
    "\n",
    "import numpy as np\n",
    "import tensorflow as tf\n",
    "print(\"TensorFlow version:\", tf.__version__)"
   ]
  },
  {
   "cell_type": "markdown",
   "source": [
    "# Load the MNIST dataset"
   ],
   "metadata": {
    "collapsed": false
   },
   "id": "5c62c76a47f0d5cf"
  },
  {
   "cell_type": "code",
   "execution_count": 58,
   "outputs": [],
   "source": [
    "import json\n",
    "\n",
    "mnist = tf.keras.datasets.mnist\n",
    "\n",
    "(x_train, y_train), (x_test, y_test) = mnist.load_data()\n",
    "\n",
    "def flatten(two_d_array):\n",
    "    \"\"\"\n",
    "    Flattens a two-dimensional array into a one dimensional array\n",
    "    Helpful for exporting the 784 pixels used in the MNIST dataset\n",
    "    so that we can test the Rust model.\n",
    "    :param two_d_array: [[int]] \n",
    "    :return: \n",
    "    \"\"\"\n",
    "    return [int(item) for sublist in two_d_array for item in sublist]\n",
    "\n",
    "# Export 1 example for each digit\n",
    "found = []\n",
    "while len(found) < 10:\n",
    "    for i in range(len(y_train)):\n",
    "        if y_train[i] not in found:\n",
    "            found.append(y_train[i])\n",
    "            example = x_train[i]\n",
    "            flattened_example = flatten(example)\n",
    "            with open(\"examples/example{}.json\".format(y_train[i]), \"w\") as f:\n",
    "                f.write(json.dumps(flattened_example))\n",
    "            break"
   ],
   "metadata": {
    "collapsed": false,
    "ExecuteTime": {
     "end_time": "2023-10-07T03:50:20.039936Z",
     "start_time": "2023-10-07T03:50:19.963212Z"
    }
   },
   "id": "d93f0f360bc4f227"
  },
  {
   "cell_type": "code",
   "execution_count": null,
   "outputs": [],
   "source": [
    "x_train, x_test = x_train / 255.0, x_test / 255.0"
   ],
   "metadata": {
    "collapsed": false
   },
   "id": "c8b14ac64901107a"
  },
  {
   "cell_type": "markdown",
   "source": [
    "# Build the Model"
   ],
   "metadata": {
    "collapsed": false
   },
   "id": "8591193a4386d783"
  },
  {
   "cell_type": "code",
   "execution_count": 4,
   "outputs": [
    {
     "name": "stderr",
     "output_type": "stream",
     "text": [
      "2023-10-06 16:47:33.762597: I tensorflow/core/grappler/optimizers/custom_graph_optimizer_registry.cc:117] Plugin optimizer for device_type GPU is enabled.\n"
     ]
    },
    {
     "name": "stdout",
     "output_type": "stream",
     "text": [
      "1875/1875 [==============================] - 13s 6ms/step - loss: 0.4081 - accuracy: 0.8822\n"
     ]
    },
    {
     "data": {
      "text/plain": "<keras.src.callbacks.History at 0x2a07ac3d0>"
     },
     "execution_count": 4,
     "metadata": {},
     "output_type": "execute_result"
    }
   ],
   "source": [
    "model = tf.keras.models.Sequential([\n",
    "    tf.keras.layers.Flatten(input_shape=(28, 28)),\n",
    "    tf.keras.layers.Dense(128, activation='relu'),\n",
    "    tf.keras.layers.Dropout(0.2),\n",
    "    tf.keras.layers.Dense(10)\n",
    "])\n",
    "loss_fn = tf.keras.losses.SparseCategoricalCrossentropy(from_logits=True)\n",
    "model.compile(optimizer='adam',\n",
    "              loss=loss_fn,\n",
    "              metrics=['accuracy'])\n",
    "model.fit(x_train, y_train, epochs=1)"
   ],
   "metadata": {
    "collapsed": false,
    "ExecuteTime": {
     "end_time": "2023-10-06T22:47:46.741263Z",
     "start_time": "2023-10-06T22:47:33.324262Z"
    }
   },
   "id": "9f2a1c67729fbdb1"
  },
  {
   "cell_type": "code",
   "execution_count": 5,
   "outputs": [
    {
     "name": "stdout",
     "output_type": "stream",
     "text": [
      "313/313 - 2s - loss: 0.2993 - accuracy: 0.9170 - 2s/epoch - 6ms/step\n"
     ]
    },
    {
     "data": {
      "text/plain": "[0.29934269189834595, 0.9169999957084656]"
     },
     "execution_count": 5,
     "metadata": {},
     "output_type": "execute_result"
    }
   ],
   "source": [
    "model.evaluate(x_test,  y_test, verbose=2)"
   ],
   "metadata": {
    "collapsed": false,
    "ExecuteTime": {
     "end_time": "2023-10-06T22:47:52.945879Z",
     "start_time": "2023-10-06T22:47:50.963251Z"
    }
   },
   "id": "85d455fac7925cf7"
  },
  {
   "cell_type": "code",
   "execution_count": 16,
   "outputs": [
    {
     "name": "stdout",
     "output_type": "stream",
     "text": [
      "Model: \"sequential_1\"\n",
      "_________________________________________________________________\n",
      " Layer (type)                Output Shape              Param #   \n",
      "=================================================================\n",
      " flatten_1 (Flatten)         (None, 784)               0         \n",
      "                                                                 \n",
      " dense_2 (Dense)             (None, 128)               100480    \n",
      "                                                                 \n",
      " dropout_1 (Dropout)         (None, 128)               0         \n",
      "                                                                 \n",
      " dense_3 (Dense)             (None, 10)                1290      \n",
      "                                                                 \n",
      "=================================================================\n",
      "Total params: 101770 (397.54 KB)\n",
      "Trainable params: 101770 (397.54 KB)\n",
      "Non-trainable params: 0 (0.00 Byte)\n",
      "_________________________________________________________________\n"
     ]
    }
   ],
   "source": [
    "model.summary()"
   ],
   "metadata": {
    "collapsed": false,
    "ExecuteTime": {
     "end_time": "2023-10-06T22:52:48.799540Z",
     "start_time": "2023-10-06T22:52:48.787072Z"
    }
   },
   "id": "ae7745bb68754911"
  },
  {
   "cell_type": "markdown",
   "source": [
    "# Test the Model"
   ],
   "metadata": {
    "collapsed": false
   },
   "id": "6d634b13fb7659dd"
  },
  {
   "cell_type": "code",
   "execution_count": 47,
   "outputs": [
    {
     "name": "stdout",
     "output_type": "stream",
     "text": [
      "1/1 [==============================] - 0s 56ms/step\n"
     ]
    },
    {
     "data": {
      "text/plain": "7"
     },
     "execution_count": 47,
     "metadata": {},
     "output_type": "execute_result"
    }
   ],
   "source": [
    "# This is the number seven pulled from the first test case in the MNIST dataset\n",
    "example = x_test[:1]\n",
    "\n",
    "# I'm going to get a prediction which is going to give me an array of probabilities, where each\n",
    "# element in the array corresponds to the probability that the image is that number\n",
    "prediction = model.predict(example)\n",
    "\n",
    "# And I'll print the index of the highest probability\n",
    "np.argmax(prediction)"
   ],
   "metadata": {
    "collapsed": false,
    "ExecuteTime": {
     "end_time": "2023-10-07T03:17:26.049192Z",
     "start_time": "2023-10-07T03:17:25.972170Z"
    }
   },
   "id": "708229a8453983d6"
  },
  {
   "cell_type": "markdown",
   "source": [
    "# Export the Model"
   ],
   "metadata": {
    "collapsed": false
   },
   "id": "83e7da7fbf5ea4e5"
  },
  {
   "cell_type": "code",
   "execution_count": 76,
   "outputs": [
    {
     "name": "stdout",
     "output_type": "stream",
     "text": [
      "Dense 1 Weights Shape: (784, 128)\n",
      "Dense 1 Biases Shape: (128,)\n",
      "Dense 2 Weights Shape: (128, 10)\n",
      "Dense 2 Biases Shape: (10,)\n"
     ]
    }
   ],
   "source": [
    "# Let's figure out what weights we need to export. \n",
    "# The dense layer has weights and biases, so we'll extract both of those\n",
    "dense1 = model.layers[1].get_weights()\n",
    "dense_weights1 = dense1[0]\n",
    "dense_biases1 = dense1[1]\n",
    "\n",
    "print(\"Dense 1 Weights Shape:\", dense_weights1.shape)\n",
    "print(\"Dense 1 Biases Shape:\", dense_biases1.shape)\n",
    "\n",
    "# Dropout is not a layer that is applied during inference, so it doesn't have to be exported\n",
    "# Let's export the weights of the final dense layer\n",
    "dense2 = model.layers[3].get_weights()\n",
    "dense_weights2 = dense2[0]\n",
    "dense_biases2 = dense2[1]\n",
    "\n",
    "print(\"Dense 2 Weights Shape:\", dense_weights2.shape)\n",
    "print(\"Dense 2 Biases Shape:\", dense_biases2.shape)\n"
   ],
   "metadata": {
    "collapsed": false,
    "ExecuteTime": {
     "end_time": "2023-10-07T14:45:38.894165Z",
     "start_time": "2023-10-07T14:45:38.884261Z"
    }
   },
   "id": "ff28c0c6d2c04bc8"
  },
  {
   "cell_type": "code",
   "execution_count": 77,
   "outputs": [
    {
     "data": {
      "text/plain": "[<keras.src.layers.reshaping.flatten.Flatten at 0x2a0e51910>,\n <keras.src.layers.core.dense.Dense at 0x2a0775f40>,\n <keras.src.layers.regularization.dropout.Dropout at 0x2a0754f10>,\n <keras.src.layers.core.dense.Dense at 0x1102df250>]"
     },
     "execution_count": 77,
     "metadata": {},
     "output_type": "execute_result"
    }
   ],
   "source": [
    "model.layers"
   ],
   "metadata": {
    "collapsed": false,
    "ExecuteTime": {
     "end_time": "2023-10-07T14:45:39.303713Z",
     "start_time": "2023-10-07T14:45:39.298484Z"
    }
   },
   "id": "608aa6e30072d01b"
  },
  {
   "cell_type": "code",
   "execution_count": 71,
   "outputs": [],
   "source": [
    "from safetensors.tensorflow import save_file\n",
    "\n",
    "save_file({\n",
    "    \"d1_w\": tf.convert_to_tensor(dense_weights1),\n",
    "    \"d1_b\": tf.convert_to_tensor(dense_biases1),\n",
    "    \"d2_w\": tf.convert_to_tensor(dense_weights2),\n",
    "    \"d2_b\": tf.convert_to_tensor(dense_biases2),\n",
    "}, \"model.safetensors\")"
   ],
   "metadata": {
    "collapsed": false,
    "ExecuteTime": {
     "end_time": "2023-10-07T14:32:45.987724Z",
     "start_time": "2023-10-07T14:32:45.982302Z"
    }
   },
   "id": "2f996c5973358fc0"
  },
  {
   "cell_type": "code",
   "execution_count": null,
   "outputs": [],
   "source": [],
   "metadata": {
    "collapsed": false
   },
   "id": "795d9c68033206d5"
  }
 ],
 "metadata": {
  "kernelspec": {
   "display_name": "Python 3",
   "language": "python",
   "name": "python3"
  },
  "language_info": {
   "codemirror_mode": {
    "name": "ipython",
    "version": 2
   },
   "file_extension": ".py",
   "mimetype": "text/x-python",
   "name": "python",
   "nbconvert_exporter": "python",
   "pygments_lexer": "ipython2",
   "version": "2.7.6"
  }
 },
 "nbformat": 4,
 "nbformat_minor": 5
}
